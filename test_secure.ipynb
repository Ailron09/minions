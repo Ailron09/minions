{
 "cells": [
  {
   "cell_type": "code",
   "execution_count": 1,
   "metadata": {},
   "outputs": [
    {
     "name": "stderr",
     "output_type": "stream",
     "text": [
      "/Users/biderman/miniconda/envs/minions-py311/lib/python3.11/site-packages/tqdm/auto.py:21: TqdmWarning: IProgress not found. Please update jupyter and ipywidgets. See https://ipywidgets.readthedocs.io/en/stable/user_install.html\n",
      "  from .autonotebook import tqdm as notebook_tqdm\n",
      "None of PyTorch, TensorFlow >= 2.0, or Flax have been found. Models won't be available and only tokenizers, configuration and file/data utilities can be used.\n"
     ]
    },
    {
     "name": "stdout",
     "output_type": "stream",
     "text": [
      "WARNING: PyTorch is not installed. Please install it with `pip install torch`.\n",
      "WARNING: PEFT is not installed. Please install it with `pip install peft`.\n",
      "Warning: cartesia_mlx is not installed. If you want to use cartesia_mlx, please follow the instructions in the README to install it.\n",
      "Warning: huggingface inference client is not installed. If you want to use huggingface inference client, please install it with `pip install huggingface-hub`\n",
      "Warning: mlx_parallm is not installed. If you want to use mlx_parallm, please install it with `pip install mlx-parallm`\n"
     ]
    }
   ],
   "source": [
    "from minions.clients import OllamaClient\n",
    "from secure.minions_secure import SecureMinionProtocol\n"
   ]
  },
  {
   "cell_type": "code",
   "execution_count": 2,
   "metadata": {},
   "outputs": [
    {
     "name": "stderr",
     "output_type": "stream",
     "text": [
      "2025-05-31 07:53:40,754 - secure.minions_secure - INFO - 🔒 Secure Minion Protocol initialized with end-to-end encryption and attestation verification\n",
      "2025-05-31 07:53:40,754 - secure.minions_secure - INFO - 🔒 Starting secure communication session b9fbff69737c4e8baca867a92229a11f\n",
      "2025-05-31 07:53:40,754 - secure.minions_secure - INFO - 🔐 SECURITY: Requesting attestation report from supervisor\n",
      "2025-05-31 07:53:40,927 - secure.minions_secure - INFO - ✅ SECURITY: Supervisor attestation verification successful\n",
      "2025-05-31 07:53:40,927 - secure.minions_secure - INFO - 🔑 SECURITY: Generating ephemeral key pair for perfect forward secrecy\n",
      "2025-05-31 07:53:40,929 - secure.minions_secure - INFO - ✅ SECURITY: Established shared secret key using Diffie-Hellman key exchange\n",
      "2025-05-31 07:53:40,929 - secure.minions_secure - INFO - 🔢 SECURITY: Initializing nonce counter for replay protection\n",
      "2025-05-31 07:53:40,929 - secure.minions_secure - INFO - 🔒 SECURITY: Encrypting message with shared key and signing with private key\n",
      "2025-05-31 07:53:40,930 - secure.minions_secure - INFO - 📤 SECURITY: Sending encrypted and signed payload to supervisor\n"
     ]
    },
    {
     "name": "stdout",
     "output_type": "stream",
     "text": [
      "\n",
      "========== SECURE MINION TASK STARTED ==========\n",
      "Task: how many grand slams did he win\n",
      "Max rounds: 3\n",
      "Privacy enabled: False\n",
      "Images provided: False\n",
      "Context length: 896 characters\n"
     ]
    },
    {
     "name": "stderr",
     "output_type": "stream",
     "text": [
      "2025-05-31 07:53:45,129 - secure.minions_secure - INFO - 📥 SECURITY: Decrypting and verifying supervisor response\n",
      "2025-05-31 07:53:45,134 - secure.minions_secure - INFO - ✅ SECURITY: Message authentication and decryption successful\n",
      "2025-05-31 07:53:45,135 - secure.minions_secure - INFO - 🔄 Round 1/3\n",
      "2025-05-31 07:53:45,136 - secure.minions_secure - INFO - 🔧 LOCAL: Calling local worker model\n",
      "2025-05-31 07:53:48,801 - secure.minions_secure - INFO - ✅ LOCAL: Worker response received\n",
      "2025-05-31 07:53:48,804 - secure.minions_secure - INFO - 📤 Sending worker response to supervisor\n",
      "2025-05-31 07:53:48,804 - secure.minions_secure - INFO - 🔒 SECURITY: Encrypting supervisor messages with shared key\n",
      "2025-05-31 07:53:48,806 - secure.minions_secure - INFO - 🔢 SECURITY: Incrementing nonce for replay protection\n",
      "2025-05-31 07:53:49,987 - secure.minions_secure - INFO - 📥 SECURITY: Decrypting and verifying supervisor response\n",
      "2025-05-31 07:53:49,992 - secure.minions_secure - INFO - ✅ SECURITY: Message authentication and decryption successful\n",
      "2025-05-31 07:53:49,993 - secure.minions_secure - INFO - 🔍 Checking supervisor decision\n",
      "2025-05-31 07:53:49,994 - secure.minions_secure - INFO - 📋 Supervisor requested additional info. Continuing to next round.\n",
      "2025-05-31 07:53:49,994 - secure.minions_secure - INFO - 🔄 Round 2/3\n",
      "2025-05-31 07:53:49,995 - secure.minions_secure - INFO - 🔧 LOCAL: Calling local worker model\n",
      "2025-05-31 07:53:50,456 - secure.minions_secure - INFO - ✅ LOCAL: Worker response received\n",
      "2025-05-31 07:53:50,456 - secure.minions_secure - INFO - 📤 Sending worker response to supervisor\n",
      "2025-05-31 07:53:50,457 - secure.minions_secure - INFO - 🔒 SECURITY: Encrypting supervisor messages with shared key\n",
      "2025-05-31 07:53:50,458 - secure.minions_secure - INFO - 🔢 SECURITY: Incrementing nonce for replay protection\n",
      "2025-05-31 07:53:51,683 - secure.minions_secure - INFO - 📥 SECURITY: Decrypting and verifying supervisor response\n",
      "2025-05-31 07:53:51,687 - secure.minions_secure - INFO - ✅ SECURITY: Message authentication and decryption successful\n",
      "2025-05-31 07:53:51,688 - secure.minions_secure - INFO - 🔍 Checking supervisor decision\n",
      "2025-05-31 07:53:51,688 - secure.minions_secure - INFO - ✅ Found final answer\n",
      "2025-05-31 07:53:51,691 - secure.minions_secure - INFO - 🔒 SECURITY: Secure communication session completed successfully\n"
     ]
    },
    {
     "name": "stdout",
     "output_type": "stream",
     "text": [
      "\n",
      "=== SAVING LOG TO secure_minion_logs/20250531_075351_how_many_grand__secure.json ===\n",
      "\n",
      "=== SECURE MINION TASK COMPLETED ===\n"
     ]
    }
   ],
   "source": [
    "\n",
    "local_client = OllamaClient(model_name=\"llama3.2\")\n",
    "protocol = SecureMinionProtocol(\n",
    "    supervisor_url=\"http://20.57.33.122:5056\", # gemma-3-27b deployed on a confidential GPU via Azure\n",
    ")\n",
    "\n",
    "context = \"John Doe, a legendary tennis player, known for his powerful serve and agile footwork, won a total of 20 grand slam titles during his illustrious career. He started playing tennis at the age of 5, inspired by his father who was a local tennis coach. Throughout his career, he faced numerous challenges, including a severe knee injury that almost ended his career prematurely. Despite these setbacks, John managed to come back stronger, winning his first grand slam at the age of 22. His rivalry with another top player, Jane Smith, was legendary, often drawing huge crowds and media attention. Off the court, John was known for his philanthropic efforts, particularly in supporting underprivileged children to access sports facilities. His favorite tournament was Wimbledon, where he won 7 of his 20 grand slam titles, often citing the grass courts as his preferred playing surface.\"\n",
    "\n",
    "result = protocol(task=\"how many grand slams did he win\", context=[context])"
   ]
  },
  {
   "cell_type": "code",
   "execution_count": 5,
   "metadata": {},
   "outputs": [
    {
     "name": "stdout",
     "output_type": "stream",
     "text": [
      "John Doe won 20 Grand Slam titles.\n"
     ]
    }
   ],
   "source": [
    "print(result['final_answer'])"
   ]
  },
  {
   "cell_type": "code",
   "execution_count": null,
   "metadata": {},
   "outputs": [],
   "source": []
  }
 ],
 "metadata": {
  "kernelspec": {
   "display_name": "minions-py311",
   "language": "python",
   "name": "python3"
  },
  "language_info": {
   "codemirror_mode": {
    "name": "ipython",
    "version": 3
   },
   "file_extension": ".py",
   "mimetype": "text/x-python",
   "name": "python",
   "nbconvert_exporter": "python",
   "pygments_lexer": "ipython3",
   "version": "3.11.11"
  }
 },
 "nbformat": 4,
 "nbformat_minor": 2
}
